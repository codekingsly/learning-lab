{
 "cells": [
  {
   "cell_type": "code",
   "execution_count": 1,
   "id": "978271d4-054c-475e-a22a-1f206f2ca055",
   "metadata": {},
   "outputs": [
    {
     "data": {
      "text/plain": [
       "array([9603.6201565])"
      ]
     },
     "execution_count": 1,
     "metadata": {},
     "output_type": "execute_result"
    }
   ],
   "source": [
    "import pickle\n",
    "load_model=pickle.load(open(\"finalized_svm_model.sav\",\"rb\"))\n",
    "result=load_model.predict([[38, 27, 2, True, False]])\n",
    "result"
   ]
  }
 ],
 "metadata": {
  "kernelspec": {
   "display_name": "Python 3 (ipykernel)",
   "language": "python",
   "name": "python3"
  },
  "language_info": {
   "codemirror_mode": {
    "name": "ipython",
    "version": 3
   },
   "file_extension": ".py",
   "mimetype": "text/x-python",
   "name": "python",
   "nbconvert_exporter": "python",
   "pygments_lexer": "ipython3",
   "version": "3.13.5"
  }
 },
 "nbformat": 4,
 "nbformat_minor": 5
}
