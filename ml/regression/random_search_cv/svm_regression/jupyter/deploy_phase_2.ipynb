{
 "cells": [
  {
   "cell_type": "code",
   "execution_count": 6,
   "id": "978271d4-054c-475e-a22a-1f206f2ca055",
   "metadata": {},
   "outputs": [
    {
     "name": "stderr",
     "output_type": "stream",
     "text": [
      "C:\\Anaconda3\\Lib\\site-packages\\sklearn\\utils\\validation.py:2739: UserWarning: X does not have valid feature names, but StandardScaler was fitted with feature names\n",
      "  warnings.warn(\n"
     ]
    },
    {
     "data": {
      "text/plain": [
       "array([-0.50245195])"
      ]
     },
     "execution_count": 6,
     "metadata": {},
     "output_type": "execute_result"
    }
   ],
   "source": [
    "import pickle\n",
    "load_model=pickle.load(open(\"finalized_svm_model.sav\",\"rb\"))\n",
    "load_sc_x=pickle.load(open(\"svr_model_sc_x.sav\",\"rb\"))\n",
    "load_sc_y=pickle.load(open(\"svr_model_sc_y.sav\",\"rb\"))\n",
    "preinput=load_sc_x.transform([[38, 27, 2, True, False]])\n",
    "preoutput=load_model.predict(preinput)\n",
    "preoutput"
   ]
  },
  {
   "cell_type": "code",
   "execution_count": 7,
   "id": "324547cb-284e-4cc0-804b-4c022f617a98",
   "metadata": {},
   "outputs": [
    {
     "data": {
      "text/plain": [
       "array([[7266.92145247]])"
      ]
     },
     "execution_count": 7,
     "metadata": {},
     "output_type": "execute_result"
    }
   ],
   "source": [
    "output=load_sc_y.inverse_transform([preoutput])\n",
    "output"
   ]
  }
 ],
 "metadata": {
  "kernelspec": {
   "display_name": "Python 3 (ipykernel)",
   "language": "python",
   "name": "python3"
  },
  "language_info": {
   "codemirror_mode": {
    "name": "ipython",
    "version": 3
   },
   "file_extension": ".py",
   "mimetype": "text/x-python",
   "name": "python",
   "nbconvert_exporter": "python",
   "pygments_lexer": "ipython3",
   "version": "3.13.5"
  }
 },
 "nbformat": 4,
 "nbformat_minor": 5
}
