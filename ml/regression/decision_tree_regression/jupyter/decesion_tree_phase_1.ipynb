{
 "cells": [
  {
   "cell_type": "code",
   "execution_count": null,
   "id": "3f3d86c5-6c63-4309-9853-8e02e30031e0",
   "metadata": {},
   "outputs": [],
   "source": []
  }
 ],
 "metadata": {
  "kernelspec": {
   "display_name": "",
   "name": ""
  },
  "language_info": {
   "name": ""
  }
 },
 "nbformat": 4,
 "nbformat_minor": 5
}
