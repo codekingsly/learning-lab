{
 "cells": [
  {
   "cell_type": "code",
   "execution_count": 13,
   "id": "e21a9790-a6fd-414a-898d-2387ab8249a6",
   "metadata": {},
   "outputs": [],
   "source": [
    "class SubfieldsInAI:\n",
    "    def subfields(self):\n",
    "        ai_fields = [\"Machine Learning\",\"Neural Networks\",\"Vision\",\"Robotics\",\"Speech Processing\",\"Natural Language Processin\"]\n",
    "        print(\"Sub-fields in AI are:\")\n",
    "        for sf in ai_fields:\n",
    "            print(sf)\n",
    "\n",
    "subfieldsInAIObj = SubfieldsInAI()\n"
   ]
  },
  {
   "cell_type": "code",
   "execution_count": 14,
   "id": "2cc4fcfe-e58f-4c0d-827b-ec948deecec5",
   "metadata": {},
   "outputs": [
    {
     "name": "stdout",
     "output_type": "stream",
     "text": [
      "Sub-fields in AI are:\n",
      "Machine Learning\n",
      "Neural Networks\n",
      "Vision\n",
      "Robotics\n",
      "Speech Processing\n",
      "Natural Language Processin\n"
     ]
    }
   ],
   "source": [
    "subfieldsInAIObj.subfields()"
   ]
  },
  {
   "cell_type": "code",
   "execution_count": 17,
   "id": "19060bf6-478a-45d2-a044-b8ba0c5a0e18",
   "metadata": {},
   "outputs": [],
   "source": [
    "class OddEven:\n",
    "    def oddEvenFn(self, num):\n",
    "        if num%2 != 0:\n",
    "            print(f\"{num} is odd\")\n",
    "        else:\n",
    "            print(f\"{num} is even\")"
   ]
  },
  {
   "cell_type": "code",
   "execution_count": 18,
   "id": "568f7a9c-bc8e-4eb2-9639-fe39ea137722",
   "metadata": {},
   "outputs": [
    {
     "name": "stdin",
     "output_type": "stream",
     "text": [
      "Enter Number to check odd or even: 23\n"
     ]
    },
    {
     "name": "stdout",
     "output_type": "stream",
     "text": [
      "23 is odd\n"
     ]
    }
   ],
   "source": [
    "input_number = input(\"Enter Number to check odd or even:\")\n",
    "try:\n",
    "    number = int(input_number)\n",
    "    oddEvenObj = OddEven()\n",
    "    oddEvenObj.oddEvenFn(number)\n",
    "except ValueError:\n",
    "    print(\"Invalid Input\")"
   ]
  },
  {
   "cell_type": "code",
   "execution_count": 20,
   "id": "63e9f207-cd17-48df-89eb-3e1ba7f3eb84",
   "metadata": {},
   "outputs": [],
   "source": [
    "class EligibilityForMarriage:\n",
    "    def eligible(self, gender, age):\n",
    "        if gender != \"male\" and gender != \"female\": \n",
    "            print(\"Invalid Gender\")\n",
    "        elif gender == \"male\" and age >= 21:            \n",
    "            print(\"Eligible\")\n",
    "        elif gender == \"female\" and age >= 18:            \n",
    "            print(\"Eligible\")\n",
    "        else:            \n",
    "            print(\"Not Eligible\")"
   ]
  },
  {
   "cell_type": "code",
   "execution_count": 21,
   "id": "03ddd5cd-cb08-4c2e-b368-f9b229fa2429",
   "metadata": {},
   "outputs": [
    {
     "name": "stdin",
     "output_type": "stream",
     "text": [
      "Enter Gender: male\n",
      "Enter Age: 23\n"
     ]
    },
    {
     "name": "stdout",
     "output_type": "stream",
     "text": [
      "Eligible\n"
     ]
    }
   ],
   "source": [
    "input_gender = input(\"Enter Gender:\").lower()\n",
    "input_age = input(\"Enter Age:\")\n",
    "try:\n",
    "    age = int(input_age)\n",
    "    eligibilityForMarriageObj = EligibilityForMarriage()\n",
    "    eligibilityForMarriageObj.eligible(input_gender,age)\n",
    "except ValueError:\n",
    "    print(\"Invalid Input for Age\")"
   ]
  },
  {
   "cell_type": "code",
   "execution_count": 26,
   "id": "72d09c35-461c-49af-9843-5f351397f25a",
   "metadata": {},
   "outputs": [],
   "source": [
    "class FindPercent:\n",
    "    def percentage(self):\n",
    "        input_no_of_sub = input(\"Enter Number of subjects:\")\n",
    "        try:\n",
    "            no_of_sub = int(input_no_of_sub)\n",
    "            total_marks = 0\n",
    "            for nos in range(no_of_sub):\n",
    "                mark_subject = int(input(f\"Subject{nos+1}=\"))\n",
    "                total_marks= total_marks + mark_subject    \n",
    "            print(\"Total:\", total_marks)\n",
    "            print(\"Percentage:\", (total_marks/(100*no_of_sub)) * 100)\n",
    "        except:\n",
    "            print(\"Invalid Input for Subjects or Marks\") \n",
    "findPercentObj = FindPercent()"
   ]
  },
  {
   "cell_type": "code",
   "execution_count": 27,
   "id": "792d5aad-7a77-4cf2-a284-e6aab9e3abbb",
   "metadata": {},
   "outputs": [
    {
     "name": "stdin",
     "output_type": "stream",
     "text": [
      "Enter Number of subjects: 3\n",
      "Subject1= 100\n",
      "Subject2= 98\n",
      "Subject3= 99\n"
     ]
    },
    {
     "name": "stdout",
     "output_type": "stream",
     "text": [
      "Total: 297\n",
      "Percentage: 99.0\n"
     ]
    }
   ],
   "source": [
    "findPercentObj.percentage()"
   ]
  },
  {
   "cell_type": "code",
   "execution_count": 24,
   "id": "5ad7e933-e410-4d99-a6fc-03b1a9d46cdc",
   "metadata": {},
   "outputs": [],
   "source": [
    "class Triangle:\n",
    "    def triangle(self):\n",
    "        height = int(input(\"Height:\"))\n",
    "        breadth = int(input(\"Breadth:\"))\n",
    "        print(\"Area formula: (Height*Breadth)/2\")\n",
    "        print(\"Area of Triangle:\", (height*breadth)/2)\n",
    "\n",
    "        height1 = int(input(\"Height1:\"))\n",
    "        height2 = int(input(\"Height2:\"))\n",
    "        breadth = int(input(\"Breadth:\"))\n",
    "        print(\"Perimeter formula: Height1+Height2+Breadth\")\n",
    "        print(\"Perimeter of Triangle:\", height1+height2+breadth)\n",
    "\n",
    "triangleObj = Triangle()"
   ]
  },
  {
   "cell_type": "code",
   "execution_count": 25,
   "id": "40d236fb-8564-4d63-973c-49b88ccaa9fb",
   "metadata": {},
   "outputs": [
    {
     "name": "stdin",
     "output_type": "stream",
     "text": [
      "Height: 2\n",
      "Breadth: 2\n"
     ]
    },
    {
     "name": "stdout",
     "output_type": "stream",
     "text": [
      "Area formula: (Height*Breadth)/2\n",
      "Area of Triangle: 2.0\n"
     ]
    },
    {
     "name": "stdin",
     "output_type": "stream",
     "text": [
      "Height1: 1\n",
      "Height2: 2\n",
      "Breadth: 2\n"
     ]
    },
    {
     "name": "stdout",
     "output_type": "stream",
     "text": [
      "Perimeter formula: Height1+Height2+Breadth\n",
      "Perimeter of Triangle: 5\n"
     ]
    }
   ],
   "source": [
    "triangleObj.triangle()"
   ]
  }
 ],
 "metadata": {
  "kernelspec": {
   "display_name": "Python 3 (ipykernel)",
   "language": "python",
   "name": "python3"
  },
  "language_info": {
   "codemirror_mode": {
    "name": "ipython",
    "version": 3
   },
   "file_extension": ".py",
   "mimetype": "text/x-python",
   "name": "python",
   "nbconvert_exporter": "python",
   "pygments_lexer": "ipython3",
   "version": "3.13.5"
  }
 },
 "nbformat": 4,
 "nbformat_minor": 5
}
