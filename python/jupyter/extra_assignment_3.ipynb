{
 "cells": [
  {
   "cell_type": "code",
   "execution_count": 1,
   "id": "db183fc7-64f9-4fff-a1da-54d58ff8875c",
   "metadata": {},
   "outputs": [
    {
     "name": "stdin",
     "output_type": "stream",
     "text": [
      "value: 10\n"
     ]
    },
    {
     "name": "stdout",
     "output_type": "stream",
     "text": [
      "CORRECT\n"
     ]
    }
   ],
   "source": [
    "inp_num = input(\"value:\")\n",
    "try:\n",
    "    num = int(inp_num)\n",
    "    if(num == 10):\n",
    "        print(\"CORRECT\")\n",
    "except ValueError:\n",
    "    print(\"Invalid Number\")"
   ]
  },
  {
   "cell_type": "code",
   "execution_count": 2,
   "id": "a3423ac9-9589-4874-a79c-257e3dc0c8a4",
   "metadata": {},
   "outputs": [
    {
     "name": "stdin",
     "output_type": "stream",
     "text": [
      "Enter the password: HOPE@123\n"
     ]
    },
    {
     "name": "stdout",
     "output_type": "stream",
     "text": [
      "Your password is correct\n"
     ]
    }
   ],
   "source": [
    "inp_pass = input(\"Enter the password:\")\n",
    "if(inp_pass == \"HOPE@123\"):\n",
    "    print(\"Your password is correct\")\n",
    "else:\n",
    "    print(\"Your password is incorrect\")"
   ]
  },
  {
   "cell_type": "code",
   "execution_count": 3,
   "id": "741f91e2-796a-43f2-bce4-3a0e970344df",
   "metadata": {},
   "outputs": [
    {
     "name": "stdin",
     "output_type": "stream",
     "text": [
      "Age: 23\n"
     ]
    },
    {
     "name": "stdout",
     "output_type": "stream",
     "text": [
      "Adult\n"
     ]
    }
   ],
   "source": [
    "inp_age = input(\"Age:\")\n",
    "try:\n",
    "    age = int(inp_age)\n",
    "    if age < 18:\n",
    "        print(\"Children\")\n",
    "    elif age < 40:\n",
    "        print(\"Adult\")\n",
    "    elif age < 60:\n",
    "        print(\"Citizen\")\n",
    "    else:\n",
    "        print(\"Senior Citizen\")\n",
    "except ValueError:\n",
    "    print(\"Enter Valid Age\")"
   ]
  },
  {
   "cell_type": "code",
   "execution_count": 4,
   "id": "344cb14c-48df-4109-a07d-6ffbd1ccf6bf",
   "metadata": {},
   "outputs": [
    {
     "name": "stdin",
     "output_type": "stream",
     "text": [
      "Enter any number to check positive or negative: 34\n"
     ]
    },
    {
     "name": "stdout",
     "output_type": "stream",
     "text": [
      "Num is positive\n"
     ]
    }
   ],
   "source": [
    "inp_num = input(\"Enter any number to check positive or negative:\")\n",
    "try:\n",
    "    num = float(inp_num)\n",
    "    if(num > 0):\n",
    "        print(\"Num is positive\")\n",
    "    else:\n",
    "        print(\"Num is negative\")\n",
    "except ValueError:\n",
    "    print(\"Invalid Number\")"
   ]
  },
  {
   "cell_type": "code",
   "execution_count": 5,
   "id": "342973e2-6035-4ab8-ac4d-d5ce7649142d",
   "metadata": {},
   "outputs": [
    {
     "name": "stdin",
     "output_type": "stream",
     "text": [
      "Enter a number to check divisible by 5: 45\n"
     ]
    },
    {
     "name": "stdout",
     "output_type": "stream",
     "text": [
      "45 is divisible by 5\n"
     ]
    }
   ],
   "source": [
    "inp_num = input(\"Enter a number to check divisible by 5:\")\n",
    "try:\n",
    "    num = float(inp_num)\n",
    "    if num % 5 == 0:\n",
    "        print(f\"{inp_num} is divisible by 5\")\n",
    "    else:\n",
    "        print(f\"{inp_num} is not divisible by 5\")\n",
    "except ValueError:\n",
    "    print(\"Invalid Number\")"
   ]
  }
 ],
 "metadata": {
  "kernelspec": {
   "display_name": "Python 3 (ipykernel)",
   "language": "python",
   "name": "python3"
  },
  "language_info": {
   "codemirror_mode": {
    "name": "ipython",
    "version": 3
   },
   "file_extension": ".py",
   "mimetype": "text/x-python",
   "name": "python",
   "nbconvert_exporter": "python",
   "pygments_lexer": "ipython3",
   "version": "3.13.5"
  }
 },
 "nbformat": 4,
 "nbformat_minor": 5
}
