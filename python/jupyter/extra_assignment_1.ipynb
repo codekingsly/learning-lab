{
 "cells": [
  {
   "cell_type": "code",
   "execution_count": 1,
   "id": "ee0d9f7c-a725-40df-a69e-90cf44607e0f",
   "metadata": {},
   "outputs": [
    {
     "name": "stdout",
     "output_type": "stream",
     "text": [
      "HOPE AI \n",
      "\n"
     ]
    }
   ],
   "source": [
    "print(\"HOPE AI\", \"\\n\")"
   ]
  },
  {
   "cell_type": "code",
   "execution_count": 3,
   "id": "4a7a5f14-9c40-46ba-8c6b-190627392511",
   "metadata": {},
   "outputs": [
    {
     "name": "stdin",
     "output_type": "stream",
     "text": [
      "Enter your institute name: Hope AI\n"
     ]
    },
    {
     "name": "stdout",
     "output_type": "stream",
     "text": [
      "institute_name: Hope AI\n"
     ]
    }
   ],
   "source": [
    "institute_name = input(\"Enter your institute name:\")\n",
    "print(\"institute_name:\",institute_name)\n"
   ]
  },
  {
   "cell_type": "code",
   "execution_count": 4,
   "id": "73c4626f-5803-4651-8238-bebb52591cc6",
   "metadata": {},
   "outputs": [
    {
     "name": "stdin",
     "output_type": "stream",
     "text": [
      "Enter your name: John\n",
      "Enter your age: 25\n",
      "Enter your school name: University of California \n",
      "Enter your degree: Computer Science\n"
     ]
    },
    {
     "name": "stdout",
     "output_type": "stream",
     "text": [
      "Name:John, Age:25, School Name:University of California , Degree:Computer Science\n"
     ]
    }
   ],
   "source": [
    "name = input(\"Enter your name:\")\n",
    "age = input(\"Enter your age:\")\n",
    "school_name = input(\"Enter your school name:\")\n",
    "degree = input(\"Enter your degree:\")\n",
    "print(f\"Name:{name}, Age:{age}, School Name:{school_name}, Degree:{degree}\")\n"
   ]
  },
  {
   "cell_type": "code",
   "execution_count": 5,
   "id": "aab33b6e-d87d-442d-9d77-03f23b3e1b17",
   "metadata": {},
   "outputs": [
    {
     "name": "stdout",
     "output_type": "stream",
     "text": [
      "a= 43\n",
      "b= 34\n",
      "Add= 77\n"
     ]
    }
   ],
   "source": [
    "a=43\n",
    "print(\"a=\", a)\n",
    "b=34\n",
    "print(\"b=\", b)\n",
    "print(\"Add=\", a + b)"
   ]
  },
  {
   "cell_type": "code",
   "execution_count": 6,
   "id": "0b7a6b13-c302-40f1-8aca-4d9feb2181a8",
   "metadata": {},
   "outputs": [
    {
     "name": "stdout",
     "output_type": "stream",
     "text": [
      "a= 43\n",
      "b= 34\n",
      "Sub= 9\n"
     ]
    }
   ],
   "source": [
    "\n",
    "a=43\n",
    "print(\"a=\", a)\n",
    "b=34\n",
    "print(\"b=\", b)\n",
    "print(\"Sub=\", a - b)"
   ]
  },
  {
   "cell_type": "code",
   "execution_count": 7,
   "id": "24bbe9d9-c739-46e0-9778-eae74efbe036",
   "metadata": {},
   "outputs": [
    {
     "name": "stdout",
     "output_type": "stream",
     "text": [
      "a= 63\n",
      "b= 97\n",
      "Mul= 6111\n"
     ]
    }
   ],
   "source": [
    "a=63\n",
    "print(\"a=\", a)\n",
    "b=97\n",
    "print(\"b=\", b)\n",
    "print(\"Mul=\", a * b)"
   ]
  },
  {
   "cell_type": "code",
   "execution_count": 9,
   "id": "62222e12-dda3-401e-8941-86b1bc866018",
   "metadata": {},
   "outputs": [
    {
     "name": "stdout",
     "output_type": "stream",
     "text": [
      "a= 76\n",
      "b= 31\n",
      "Div= 2.4516129032258065\n"
     ]
    }
   ],
   "source": [
    "a=76\n",
    "print(\"a=\", a)\n",
    "b=31\n",
    "print(\"b=\", b)\n",
    "print(\"Div=\", a / b)"
   ]
  },
  {
   "cell_type": "code",
   "execution_count": 10,
   "id": "46b4c219-71a5-4f47-99df-dceae4d1298b",
   "metadata": {},
   "outputs": [
    {
     "name": "stdout",
     "output_type": "stream",
     "text": [
      "a= 76\n",
      "b= 31\n",
      "Floor Div= 2\n"
     ]
    }
   ],
   "source": [
    "a=76\n",
    "print(\"a=\", a)\n",
    "b=31\n",
    "print(\"b=\", b)\n",
    "print(\"Floor Div=\", a // b)"
   ]
  },
  {
   "cell_type": "code",
   "execution_count": 11,
   "id": "f65b8dfc-32fb-4497-9c1e-e204abfc7958",
   "metadata": {},
   "outputs": [
    {
     "name": "stdout",
     "output_type": "stream",
     "text": [
      "a= 76\n",
      "b= 31\n",
      "Modulo= 14\n"
     ]
    }
   ],
   "source": [
    "a=76\n",
    "print(\"a=\", a)\n",
    "b=31\n",
    "print(\"b=\", b)\n",
    "print(\"Modulo=\", a % b)"
   ]
  },
  {
   "cell_type": "code",
   "execution_count": 12,
   "id": "2e75fe70-d0ad-4cca-a76d-2ac7fb327dfc",
   "metadata": {},
   "outputs": [
    {
     "name": "stdout",
     "output_type": "stream",
     "text": [
      "a= 4\n",
      "b= 4\n",
      "Power= 256\n"
     ]
    }
   ],
   "source": [
    "a=4\n",
    "print(\"a=\", a)\n",
    "b=4\n",
    "print(\"b=\", b)\n",
    "print(\"Power=\", a ** b)"
   ]
  }
 ],
 "metadata": {
  "kernelspec": {
   "display_name": "Python 3 (ipykernel)",
   "language": "python",
   "name": "python3"
  },
  "language_info": {
   "codemirror_mode": {
    "name": "ipython",
    "version": 3
   },
   "file_extension": ".py",
   "mimetype": "text/x-python",
   "name": "python",
   "nbconvert_exporter": "python",
   "pygments_lexer": "ipython3",
   "version": "3.13.5"
  }
 },
 "nbformat": 4,
 "nbformat_minor": 5
}
