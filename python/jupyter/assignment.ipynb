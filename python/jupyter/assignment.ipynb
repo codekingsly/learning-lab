{
 "cells": [
  {
   "cell_type": "code",
   "execution_count": 1,
   "id": "94a8422b-ad5c-479c-a3a5-d313996e56f1",
   "metadata": {},
   "outputs": [
    {
     "name": "stdout",
     "output_type": "stream",
     "text": [
      "Welcome to Assignment-1 \n",
      "\n"
     ]
    }
   ],
   "source": [
    "print(\"Welcome to Assignment-1\", \"\\n\")"
   ]
  },
  {
   "cell_type": "code",
   "execution_count": null,
   "id": "126ff9f4-9345-4a53-b348-707860f8b92a",
   "metadata": {},
   "outputs": [
    {
     "name": "stdout",
     "output_type": "stream",
     "text": [
      "Num1= 10\n",
      "Num1= 10\n",
      "Add= 20\n"
     ]
    }
   ],
   "source": [
    "num1=10\n",
    "print(\"Num1=\", 10)\n",
    "num2=10\n",
    "print(\"Num1=\", 10)\n",
    "print(\"Add=\", num1 + num2)"
   ]
  },
  {
   "cell_type": "code",
   "execution_count": 4,
   "id": "e83f4682-5332-432d-af10-593e013eb13d",
   "metadata": {},
   "outputs": [
    {
     "name": "stdout",
     "output_type": "stream",
     "text": [
      "Enter the BMI Index: 34\n"
     ]
    },
    {
     "name": "stdout",
     "output_type": "stream",
     "text": [
      "Obesity\n"
     ]
    }
   ],
   "source": [
    "bmi_input  = input(\"Enter the BMI Index:\")\n",
    "try:\n",
    "    bmi = float(bmi_input )\n",
    "    if bmi < 18.5:\n",
    "        print(\"Under Weight\")\n",
    "    elif bmi < 25:\n",
    "        print(\"Normal Weight\")\n",
    "    elif bmi < 30:\n",
    "        print(\"Over weight\")\n",
    "    else:\n",
    "        print(\"Obesity\")\n",
    "except ValueError:\n",
    "    print(\"Invalid Input\")"
   ]
  }
 ],
 "metadata": {
  "kernelspec": {
   "display_name": "Python 3 (ipykernel)",
   "language": "python",
   "name": "python3"
  },
  "language_info": {
   "codemirror_mode": {
    "name": "ipython",
    "version": 3
   },
   "file_extension": ".py",
   "mimetype": "text/x-python",
   "name": "python",
   "nbconvert_exporter": "python",
   "pygments_lexer": "ipython3",
   "version": "3.13.5"
  }
 },
 "nbformat": 4,
 "nbformat_minor": 5
}
