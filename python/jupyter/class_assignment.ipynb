{
 "cells": [
  {
   "cell_type": "code",
   "execution_count": 1,
   "id": "7b4ccda5-d6c0-4c6a-901d-7d9c1ee4c768",
   "metadata": {},
   "outputs": [],
   "source": [
    "from multiple_functions import Multiplefunctions"
   ]
  },
  {
   "cell_type": "code",
   "execution_count": 2,
   "id": "ab9ac087-1a78-4f98-ba65-bca2048a4ed5",
   "metadata": {},
   "outputs": [],
   "source": [
    "multiplefunctionsObj = Multiplefunctions()"
   ]
  },
  {
   "cell_type": "code",
   "execution_count": 5,
   "id": "d1b2e7eb-03d5-44af-bd39-394e5d987d28",
   "metadata": {},
   "outputs": [
    {
     "name": "stdout",
     "output_type": "stream",
     "text": [
      "Sub-fields in AI are:\n",
      "Machine Learning\n",
      "Neural Networks\n",
      "Vision\n",
      "Robotics\n",
      "Speech Processing\n",
      "Natural Language Processin\n"
     ]
    }
   ],
   "source": [
    "multiplefunctionsObj.subfields()"
   ]
  },
  {
   "cell_type": "code",
   "execution_count": 6,
   "id": "4c315c6d-8940-4661-bf6f-8c59c1437a41",
   "metadata": {},
   "outputs": [
    {
     "name": "stdin",
     "output_type": "stream",
     "text": [
      "Enter Number to check odd or even: 23\n"
     ]
    },
    {
     "name": "stdout",
     "output_type": "stream",
     "text": [
      "23 is odd\n"
     ]
    }
   ],
   "source": [
    "multiplefunctionsObj.oddEvenFn()"
   ]
  },
  {
   "cell_type": "code",
   "execution_count": 7,
   "id": "d36b45c7-961d-4be7-81ac-93d473c550e2",
   "metadata": {},
   "outputs": [
    {
     "name": "stdin",
     "output_type": "stream",
     "text": [
      "Enter Gender: male\n",
      "Enter Age: 23\n"
     ]
    },
    {
     "name": "stdout",
     "output_type": "stream",
     "text": [
      "Eligible\n"
     ]
    }
   ],
   "source": [
    "multiplefunctionsObj.eligible()"
   ]
  },
  {
   "cell_type": "code",
   "execution_count": 9,
   "id": "ed75d9a9-26c9-451d-8d9b-9a2c6efffc9f",
   "metadata": {},
   "outputs": [
    {
     "name": "stdin",
     "output_type": "stream",
     "text": [
      "Enter Number of subjects: 3\n",
      "Subject1= 100\n",
      "Subject2= 99\n",
      "Subject3= 98\n"
     ]
    },
    {
     "name": "stdout",
     "output_type": "stream",
     "text": [
      "Total: 297\n",
      "Percentage: 99.0\n"
     ]
    }
   ],
   "source": [
    "multiplefunctionsObj.percentage()"
   ]
  },
  {
   "cell_type": "code",
   "execution_count": 10,
   "id": "24705ff1-4b18-4022-8595-13d294ed80c6",
   "metadata": {},
   "outputs": [
    {
     "name": "stdin",
     "output_type": "stream",
     "text": [
      "Height: 12\n",
      "Breadth: 12\n"
     ]
    },
    {
     "name": "stdout",
     "output_type": "stream",
     "text": [
      "Area formula: (Height*Breadth)/2\n",
      "Area of Triangle: 72.0\n"
     ]
    },
    {
     "name": "stdin",
     "output_type": "stream",
     "text": [
      "Height1: 12\n",
      "Height2: 12\n",
      "Breadth: 12\n"
     ]
    },
    {
     "name": "stdout",
     "output_type": "stream",
     "text": [
      "Perimeter formula: Height1+Height2+Breadth\n",
      "Perimeter of Triangle: 36\n"
     ]
    }
   ],
   "source": [
    "multiplefunctionsObj.triangle()"
   ]
  }
 ],
 "metadata": {
  "kernelspec": {
   "display_name": "Python 3 (ipykernel)",
   "language": "python",
   "name": "python3"
  },
  "language_info": {
   "codemirror_mode": {
    "name": "ipython",
    "version": 3
   },
   "file_extension": ".py",
   "mimetype": "text/x-python",
   "name": "python",
   "nbconvert_exporter": "python",
   "pygments_lexer": "ipython3",
   "version": "3.13.5"
  }
 },
 "nbformat": 4,
 "nbformat_minor": 5
}
